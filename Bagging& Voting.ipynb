{
 "cells": [
  {
   "cell_type": "code",
   "execution_count": 20,
   "metadata": {},
   "outputs": [],
   "source": [
    "from sklearn.ensemble import BaggingClassifier,VotingClassifier\n",
    "\n",
    "from sklearn.tree import DecisionTreeClassifier\n",
    "from sklearn.svm import SVC\n",
    "from sklearn.naive_bayes import GaussianNB\n",
    "\n",
    "from sklearn.model_selection import train_test_split\n",
    "from sklearn.metrics import classification_report,confusion_matrix,accuracy_score\n",
    "\n",
    "from statistics import multimode\n",
    "import copy\n",
    "import pandas as pd\n",
    "import numpy as np\n",
    "import random"
   ]
  },
  {
   "cell_type": "markdown",
   "metadata": {},
   "source": [
    "#### load data"
   ]
  },
  {
   "cell_type": "code",
   "execution_count": 21,
   "metadata": {},
   "outputs": [],
   "source": [
    "#Read ds8004_hw3_q2_data.csv file and split it to train,test\n",
    "\n",
    "data=pd.read_csv('ds8004_hw3_q2_data.csv')\n",
    "train,test=train_test_split(data, test_size=100, random_state=0, shuffle=True, stratify=data['target'])\n",
    "\n",
    "# specified all colomns until last one for X_train and the last one for the Y_train\n",
    "X,y=train[train.columns[:-1]].values,train['target'].values\n",
    "\n",
    "# specified all colomns until last one for X_test and the last one for the Y_test\n",
    "X_test,y_test=test[test.columns[:-1]].values,test['target'].values"
   ]
  },
  {
   "cell_type": "markdown",
   "metadata": {},
   "source": [
    "## 2a"
   ]
  },
  {
   "cell_type": "markdown",
   "metadata": {},
   "source": [
    "##### base_estimator"
   ]
  },
  {
   "cell_type": "code",
   "execution_count": 22,
   "metadata": {},
   "outputs": [],
   "source": [
    "# Defined the clasifier which is DecisionTree. I found 'gini'works better.\n",
    "\n",
    "estimator=DecisionTreeClassifier(criterion='gini', splitter='best')"
   ]
  },
  {
   "cell_type": "markdown",
   "metadata": {},
   "source": [
    "##### sklearn BaggingClassifier"
   ]
  },
  {
   "cell_type": "code",
   "execution_count": 23,
   "metadata": {},
   "outputs": [
    {
     "name": "stdout",
     "output_type": "stream",
     "text": [
      "              precision    recall  f1-score   support\n",
      "\n",
      "           1       0.58      0.75      0.65        24\n",
      "           2       0.60      0.58      0.59        26\n",
      "           3       0.77      0.80      0.78        25\n",
      "           4       0.94      0.68      0.79        25\n",
      "\n",
      "    accuracy                           0.70       100\n",
      "   macro avg       0.72      0.70      0.70       100\n",
      "weighted avg       0.72      0.70      0.70       100\n",
      "\n",
      "[[18  6  0  0]\n",
      " [ 9 15  2  0]\n",
      " [ 2  2 20  1]\n",
      " [ 2  2  4 17]]\n"
     ]
    }
   ],
   "source": [
    "#Implement our model(estimator) using sklearn library function BaggingClassifier.\n",
    "sklearn_clf = BaggingClassifier(base_estimator=estimator,n_estimators=10, random_state=0).fit(X, y)\n",
    "\n",
    "y_P=sklearn_clf.predict(X_test)\n",
    "# Displayed the performance of the Sklearn BagginClassifier \n",
    "\n",
    "print(classification_report(y_test,y_P))\n",
    "print(confusion_matrix(y_test,y_P))"
   ]
  },
  {
   "cell_type": "markdown",
   "metadata": {},
   "source": [
    "#### Our Impliment for BaggingClassifier"
   ]
  },
  {
   "cell_type": "code",
   "execution_count": 24,
   "metadata": {},
   "outputs": [],
   "source": [
    "#Defined the Bagging_Clf class which construct the list of\n",
    "#estimator regard of the n_estimators\n",
    "# In -init- we made copy from base-estimator & stored in the list\n",
    "# We used deepcopy because the base_estimator do not have effect on each other\n",
    "\n",
    "class Bagging_Clf:\n",
    "    def __init__(self, base_estimator,n_estimators=10):\n",
    "        self.n_estimators = n_estimators\n",
    "        self.estimators=[]\n",
    "        for i in range(self.n_estimators):\n",
    "            self.estimators.append(copy.deepcopy(base_estimator))\n",
    "            \n",
    "#We want to create 10 different data sets for our 10 estimator\n",
    "#Here we used random.choice function to create n numberes b/W 1 to n\n",
    "#We create b_ind then we append it to X\n",
    "# We will repeat this action for all estimator in order to create dataset for them\n",
    "    \n",
    "    def data_replacment(self,X,y):\n",
    "        index=np.arange(len(X))\n",
    "        b_X=[]\n",
    "        b_y=[]\n",
    "        for i in range(self.n_estimators):\n",
    "            b_ind=np.random.choice(index,len(X), replace=True)\n",
    "            b_X.append(X[b_ind])\n",
    "            b_y.append(y[b_ind])\n",
    "        return b_X,b_y\n",
    "    \n",
    "#Here we fit every dataset for each estimator\n",
    "    \n",
    "    def fit(self,X,y):\n",
    "        b_X, b_y=self.data_replacment(X,y)\n",
    "        for i in range(self.n_estimators):\n",
    "            self.estimators[i].fit(b_X[i],b_y[i])\n",
    "        return self\n",
    "#Here we used for loop to call each estimator to pass them to the predict function\n",
    "#predict(X) and store their predicts in Y list\n",
    "# lets say our #of estimators are 10 so Y is a list which contains 10 prediction list\n",
    "        \n",
    "    def predict(self,X):\n",
    "        Y=[]\n",
    "        for i in range(self.n_estimators):\n",
    "            Y.append(self.estimators[i].predict(X).tolist())\n",
    "        y_pre=[]\n",
    "        Y_pre=[]\n",
    "        for i in range(len(X)):\n",
    "# y_i contains ys in number of our estimators\n",
    "            y_i=[y[i] for y in Y]\n",
    "    \n",
    "# stored all predictions in Y_pre from each estimators that here means y_i\n",
    "# Then we need to find their mode\n",
    "\n",
    "            Y_pre.append(y_i)\n",
    "#multimode return the y predict which have the highest mode compare with others\n",
    "#random.choice :Lets assume if two modes retured so random.choice will choice it \n",
    "\n",
    "            y_pre.append(np.random.choice(multimode(y_i)))\n",
    "        return y_pre,Y_pre,Y"
   ]
  },
  {
   "cell_type": "code",
   "execution_count": 25,
   "metadata": {},
   "outputs": [],
   "source": [
    "\n",
    "#\n",
    "my_clf=Bagging_Clf(base_estimator=estimator,n_estimators=10).fit(X, y)\n"
   ]
  },
  {
   "cell_type": "code",
   "execution_count": 26,
   "metadata": {},
   "outputs": [
    {
     "name": "stdout",
     "output_type": "stream",
     "text": [
      "              precision    recall  f1-score   support\n",
      "\n",
      "           1       0.68      0.71      0.69        24\n",
      "           2       0.68      0.73      0.70        26\n",
      "           3       0.71      0.68      0.69        25\n",
      "           4       0.74      0.68      0.71        25\n",
      "\n",
      "    accuracy                           0.70       100\n",
      "   macro avg       0.70      0.70      0.70       100\n",
      "weighted avg       0.70      0.70      0.70       100\n",
      "\n",
      "[[17  6  0  1]\n",
      " [ 6 19  1  0]\n",
      " [ 1  2 17  5]\n",
      " [ 1  1  6 17]]\n"
     ]
    }
   ],
   "source": [
    "y_Pre,Y_Pre,Y=my_clf.predict(X_test)\n",
    "print(classification_report(y_test,y_Pre))\n",
    "print(confusion_matrix(y_test,y_Pre))"
   ]
  },
  {
   "cell_type": "code",
   "execution_count": 29,
   "metadata": {},
   "outputs": [
    {
     "name": "stdout",
     "output_type": "stream",
     "text": [
      "[[3, 3, 4, 4, 1, 1, 2, 2, 4, 4, 1, 2, 1, 2, 1, 2, 2, 3, 3, 4, 3, 4, 3, 2, 4, 3, 3, 4, 3, 3, 1, 1, 4, 2, 3, 3, 3, 2, 4, 1, 1, 2, 2, 1, 2, 2, 4, 4, 2, 1, 1, 4, 4, 4, 1, 2, 1, 3, 4, 3, 3, 2, 2, 1, 3, 1, 3, 1, 2, 2, 4, 4, 2, 2, 1, 2, 3, 2, 4, 4, 2, 2, 2, 1, 4, 3, 4, 3, 4, 2, 4, 2, 3, 2, 3, 1, 4, 1, 1, 4], [3, 3, 3, 3, 4, 1, 2, 2, 1, 4, 3, 3, 2, 2, 1, 2, 1, 4, 3, 4, 3, 4, 2, 1, 4, 4, 3, 3, 4, 3, 1, 1, 4, 2, 3, 4, 3, 1, 3, 1, 1, 1, 3, 1, 1, 3, 4, 1, 2, 2, 2, 1, 4, 3, 1, 2, 2, 4, 4, 2, 3, 2, 2, 2, 3, 1, 2, 3, 2, 1, 2, 3, 2, 4, 1, 2, 3, 2, 3, 4, 2, 2, 2, 2, 4, 4, 4, 4, 1, 1, 4, 4, 4, 3, 1, 4, 4, 1, 1, 4], [3, 3, 2, 4, 2, 1, 3, 2, 3, 4, 1, 4, 2, 1, 1, 2, 1, 2, 3, 4, 3, 3, 2, 1, 4, 4, 3, 2, 4, 3, 1, 1, 4, 1, 3, 4, 3, 2, 2, 2, 1, 2, 2, 1, 3, 3, 4, 2, 2, 3, 2, 3, 4, 2, 3, 2, 2, 4, 4, 1, 2, 1, 2, 1, 4, 1, 3, 2, 3, 1, 2, 4, 2, 4, 1, 2, 3, 2, 2, 3, 2, 2, 2, 2, 2, 1, 4, 4, 4, 2, 4, 2, 4, 2, 3, 2, 4, 1, 2, 4], [1, 3, 3, 4, 1, 1, 3, 2, 3, 2, 1, 3, 2, 1, 1, 2, 1, 2, 2, 4, 3, 4, 2, 1, 3, 4, 3, 3, 3, 3, 1, 2, 4, 2, 2, 4, 3, 1, 3, 1, 2, 2, 3, 1, 2, 4, 4, 3, 2, 1, 1, 3, 4, 4, 1, 2, 1, 4, 4, 3, 4, 2, 2, 2, 3, 1, 3, 2, 3, 1, 1, 3, 2, 2, 2, 2, 3, 2, 4, 4, 2, 3, 2, 3, 4, 3, 4, 4, 4, 1, 4, 2, 3, 2, 2, 2, 4, 1, 1, 4], [3, 3, 1, 3, 1, 1, 1, 2, 3, 4, 1, 4, 2, 2, 1, 3, 3, 1, 3, 3, 4, 4, 2, 2, 4, 4, 3, 2, 4, 3, 2, 2, 1, 3, 4, 4, 3, 1, 1, 2, 1, 2, 2, 2, 2, 3, 4, 2, 2, 1, 3, 4, 4, 4, 1, 2, 2, 3, 4, 3, 2, 2, 2, 2, 3, 1, 2, 1, 3, 1, 4, 3, 2, 4, 1, 2, 3, 2, 4, 3, 2, 3, 3, 3, 4, 1, 4, 4, 4, 1, 4, 2, 4, 3, 1, 1, 4, 3, 2, 4], [3, 4, 4, 4, 1, 1, 2, 2, 3, 4, 1, 4, 2, 2, 1, 1, 1, 4, 3, 3, 3, 4, 2, 2, 3, 3, 3, 3, 3, 3, 1, 1, 4, 4, 4, 3, 3, 1, 4, 1, 1, 2, 2, 2, 3, 2, 4, 1, 2, 2, 1, 3, 4, 4, 1, 3, 2, 3, 4, 2, 3, 1, 3, 1, 3, 1, 3, 1, 2, 1, 3, 3, 2, 4, 3, 2, 3, 3, 3, 4, 2, 4, 2, 1, 4, 1, 4, 4, 3, 2, 4, 2, 3, 3, 2, 4, 4, 1, 2, 4], [3, 4, 4, 4, 1, 1, 3, 2, 3, 3, 1, 4, 2, 2, 3, 2, 1, 4, 2, 1, 3, 3, 2, 1, 3, 1, 3, 4, 3, 3, 2, 1, 4, 3, 3, 4, 3, 1, 4, 1, 1, 2, 3, 1, 2, 4, 4, 1, 2, 3, 2, 2, 4, 4, 1, 2, 2, 3, 4, 2, 3, 2, 2, 1, 4, 1, 3, 1, 3, 1, 3, 3, 2, 4, 2, 2, 3, 1, 3, 4, 2, 2, 2, 2, 4, 1, 4, 4, 3, 2, 4, 2, 3, 3, 3, 1, 4, 1, 1, 4], [3, 3, 3, 4, 1, 1, 2, 1, 3, 4, 1, 4, 2, 1, 1, 1, 1, 3, 3, 4, 3, 4, 2, 2, 4, 3, 3, 3, 4, 3, 1, 1, 4, 2, 4, 4, 3, 1, 3, 1, 1, 2, 4, 1, 3, 2, 4, 3, 2, 2, 2, 3, 4, 2, 3, 2, 2, 4, 4, 1, 4, 2, 2, 3, 3, 1, 3, 2, 2, 2, 1, 3, 2, 4, 4, 1, 4, 2, 4, 3, 2, 3, 1, 2, 4, 2, 4, 2, 4, 1, 4, 1, 3, 3, 1, 1, 4, 1, 2, 3], [3, 3, 3, 3, 1, 1, 1, 2, 3, 4, 1, 4, 2, 2, 1, 2, 1, 2, 3, 4, 3, 2, 2, 1, 4, 4, 3, 3, 3, 3, 1, 1, 4, 1, 3, 4, 3, 2, 3, 1, 3, 1, 3, 1, 2, 3, 4, 1, 2, 3, 2, 3, 4, 3, 3, 2, 2, 3, 4, 2, 4, 2, 2, 1, 3, 4, 3, 2, 3, 1, 1, 3, 2, 4, 1, 2, 3, 2, 3, 4, 1, 2, 2, 1, 4, 1, 4, 4, 1, 1, 4, 2, 3, 3, 2, 2, 4, 1, 2, 4], [3, 3, 3, 4, 1, 1, 4, 2, 1, 4, 1, 4, 2, 2, 2, 2, 1, 2, 1, 3, 3, 3, 2, 2, 4, 4, 3, 2, 4, 3, 1, 1, 3, 3, 3, 4, 3, 1, 3, 1, 1, 1, 2, 1, 4, 3, 4, 1, 2, 1, 2, 4, 4, 2, 1, 2, 1, 3, 4, 4, 4, 2, 2, 2, 3, 1, 3, 1, 4, 1, 1, 3, 2, 4, 3, 2, 3, 2, 4, 4, 2, 3, 2, 2, 1, 2, 4, 4, 1, 2, 4, 1, 3, 3, 2, 1, 4, 1, 1, 4]]\n"
     ]
    }
   ],
   "source": [
    "print(Y)"
   ]
  },
  {
   "cell_type": "code",
   "execution_count": 28,
   "metadata": {},
   "outputs": [
    {
     "data": {
      "text/plain": [
       "[[3, 3, 3, 1, 3, 3, 3, 3, 3, 3],\n",
       " [3, 3, 3, 3, 3, 4, 4, 3, 3, 3],\n",
       " [4, 3, 2, 3, 1, 4, 4, 3, 3, 3],\n",
       " [4, 3, 4, 4, 3, 4, 4, 4, 3, 4],\n",
       " [1, 4, 2, 1, 1, 1, 1, 1, 1, 1],\n",
       " [1, 1, 1, 1, 1, 1, 1, 1, 1, 1],\n",
       " [2, 2, 3, 3, 1, 2, 3, 2, 1, 4],\n",
       " [2, 2, 2, 2, 2, 2, 2, 1, 2, 2],\n",
       " [4, 1, 3, 3, 3, 3, 3, 3, 3, 1],\n",
       " [4, 4, 4, 2, 4, 4, 3, 4, 4, 4],\n",
       " [1, 3, 1, 1, 1, 1, 1, 1, 1, 1],\n",
       " [2, 3, 4, 3, 4, 4, 4, 4, 4, 4],\n",
       " [1, 2, 2, 2, 2, 2, 2, 2, 2, 2],\n",
       " [2, 2, 1, 1, 2, 2, 2, 1, 2, 2],\n",
       " [1, 1, 1, 1, 1, 1, 3, 1, 1, 2],\n",
       " [2, 2, 2, 2, 3, 1, 2, 1, 2, 2],\n",
       " [2, 1, 1, 1, 3, 1, 1, 1, 1, 1],\n",
       " [3, 4, 2, 2, 1, 4, 4, 3, 2, 2],\n",
       " [3, 3, 3, 2, 3, 3, 2, 3, 3, 1],\n",
       " [4, 4, 4, 4, 3, 3, 1, 4, 4, 3],\n",
       " [3, 3, 3, 3, 4, 3, 3, 3, 3, 3],\n",
       " [4, 4, 3, 4, 4, 4, 3, 4, 2, 3],\n",
       " [3, 2, 2, 2, 2, 2, 2, 2, 2, 2],\n",
       " [2, 1, 1, 1, 2, 2, 1, 2, 1, 2],\n",
       " [4, 4, 4, 3, 4, 3, 3, 4, 4, 4],\n",
       " [3, 4, 4, 4, 4, 3, 1, 3, 4, 4],\n",
       " [3, 3, 3, 3, 3, 3, 3, 3, 3, 3],\n",
       " [4, 3, 2, 3, 2, 3, 4, 3, 3, 2],\n",
       " [3, 4, 4, 3, 4, 3, 3, 4, 3, 4],\n",
       " [3, 3, 3, 3, 3, 3, 3, 3, 3, 3],\n",
       " [1, 1, 1, 1, 2, 1, 2, 1, 1, 1],\n",
       " [1, 1, 1, 2, 2, 1, 1, 1, 1, 1],\n",
       " [4, 4, 4, 4, 1, 4, 4, 4, 4, 3],\n",
       " [2, 2, 1, 2, 3, 4, 3, 2, 1, 3],\n",
       " [3, 3, 3, 2, 4, 4, 3, 4, 3, 3],\n",
       " [3, 4, 4, 4, 4, 3, 4, 4, 4, 4],\n",
       " [3, 3, 3, 3, 3, 3, 3, 3, 3, 3],\n",
       " [2, 1, 2, 1, 1, 1, 1, 1, 2, 1],\n",
       " [4, 3, 2, 3, 1, 4, 4, 3, 3, 3],\n",
       " [1, 1, 2, 1, 2, 1, 1, 1, 1, 1],\n",
       " [1, 1, 1, 2, 1, 1, 1, 1, 3, 1],\n",
       " [2, 1, 2, 2, 2, 2, 2, 2, 1, 1],\n",
       " [2, 3, 2, 3, 2, 2, 3, 4, 3, 2],\n",
       " [1, 1, 1, 1, 2, 2, 1, 1, 1, 1],\n",
       " [2, 1, 3, 2, 2, 3, 2, 3, 2, 4],\n",
       " [2, 3, 3, 4, 3, 2, 4, 2, 3, 3],\n",
       " [4, 4, 4, 4, 4, 4, 4, 4, 4, 4],\n",
       " [4, 1, 2, 3, 2, 1, 1, 3, 1, 1],\n",
       " [2, 2, 2, 2, 2, 2, 2, 2, 2, 2],\n",
       " [1, 2, 3, 1, 1, 2, 3, 2, 3, 1],\n",
       " [1, 2, 2, 1, 3, 1, 2, 2, 2, 2],\n",
       " [4, 1, 3, 3, 4, 3, 2, 3, 3, 4],\n",
       " [4, 4, 4, 4, 4, 4, 4, 4, 4, 4],\n",
       " [4, 3, 2, 4, 4, 4, 4, 2, 3, 2],\n",
       " [1, 1, 3, 1, 1, 1, 1, 3, 3, 1],\n",
       " [2, 2, 2, 2, 2, 3, 2, 2, 2, 2],\n",
       " [1, 2, 2, 1, 2, 2, 2, 2, 2, 1],\n",
       " [3, 4, 4, 4, 3, 3, 3, 4, 3, 3],\n",
       " [4, 4, 4, 4, 4, 4, 4, 4, 4, 4],\n",
       " [3, 2, 1, 3, 3, 2, 2, 1, 2, 4],\n",
       " [3, 3, 2, 4, 2, 3, 3, 4, 4, 4],\n",
       " [2, 2, 1, 2, 2, 1, 2, 2, 2, 2],\n",
       " [2, 2, 2, 2, 2, 3, 2, 2, 2, 2],\n",
       " [1, 2, 1, 2, 2, 1, 1, 3, 1, 2],\n",
       " [3, 3, 4, 3, 3, 3, 4, 3, 3, 3],\n",
       " [1, 1, 1, 1, 1, 1, 1, 1, 4, 1],\n",
       " [3, 2, 3, 3, 2, 3, 3, 3, 3, 3],\n",
       " [1, 3, 2, 2, 1, 1, 1, 2, 2, 1],\n",
       " [2, 2, 3, 3, 3, 2, 3, 2, 3, 4],\n",
       " [2, 1, 1, 1, 1, 1, 1, 2, 1, 1],\n",
       " [4, 2, 2, 1, 4, 3, 3, 1, 1, 1],\n",
       " [4, 3, 4, 3, 3, 3, 3, 3, 3, 3],\n",
       " [2, 2, 2, 2, 2, 2, 2, 2, 2, 2],\n",
       " [2, 4, 4, 2, 4, 4, 4, 4, 4, 4],\n",
       " [1, 1, 1, 2, 1, 3, 2, 4, 1, 3],\n",
       " [2, 2, 2, 2, 2, 2, 2, 1, 2, 2],\n",
       " [3, 3, 3, 3, 3, 3, 3, 4, 3, 3],\n",
       " [2, 2, 2, 2, 2, 3, 1, 2, 2, 2],\n",
       " [4, 3, 2, 4, 4, 3, 3, 4, 3, 4],\n",
       " [4, 4, 3, 4, 3, 4, 4, 3, 4, 4],\n",
       " [2, 2, 2, 2, 2, 2, 2, 2, 1, 2],\n",
       " [2, 2, 2, 3, 3, 4, 2, 3, 2, 3],\n",
       " [2, 2, 2, 2, 3, 2, 2, 1, 2, 2],\n",
       " [1, 2, 2, 3, 3, 1, 2, 2, 1, 2],\n",
       " [4, 4, 2, 4, 4, 4, 4, 4, 4, 1],\n",
       " [3, 4, 1, 3, 1, 1, 1, 2, 1, 2],\n",
       " [4, 4, 4, 4, 4, 4, 4, 4, 4, 4],\n",
       " [3, 4, 4, 4, 4, 4, 4, 2, 4, 4],\n",
       " [4, 1, 4, 4, 4, 3, 3, 4, 1, 1],\n",
       " [2, 1, 2, 1, 1, 2, 2, 1, 1, 2],\n",
       " [4, 4, 4, 4, 4, 4, 4, 4, 4, 4],\n",
       " [2, 4, 2, 2, 2, 2, 2, 1, 2, 1],\n",
       " [3, 4, 4, 3, 4, 3, 3, 3, 3, 3],\n",
       " [2, 3, 2, 2, 3, 3, 3, 3, 3, 3],\n",
       " [3, 1, 3, 2, 1, 2, 3, 1, 2, 2],\n",
       " [1, 4, 2, 2, 1, 4, 1, 1, 2, 1],\n",
       " [4, 4, 4, 4, 4, 4, 4, 4, 4, 4],\n",
       " [1, 1, 1, 1, 3, 1, 1, 1, 1, 1],\n",
       " [1, 1, 2, 1, 2, 2, 1, 2, 2, 1],\n",
       " [4, 4, 4, 4, 4, 4, 4, 3, 4, 4]]"
      ]
     },
     "execution_count": 28,
     "metadata": {},
     "output_type": "execute_result"
    }
   ],
   "source": [
    "Y_Pre"
   ]
  },
  {
   "cell_type": "code",
   "execution_count": 32,
   "metadata": {},
   "outputs": [
    {
     "name": "stdout",
     "output_type": "stream",
     "text": [
      "[3, 3, 3, 4, 1, 1, 2, 2, 3, 4, 1, 4, 2, 2, 1, 2, 1, 2, 3, 4, 3, 4, 2, 2, 4, 4, 3, 3, 3, 3, 1, 1, 4, 2, 3, 4, 3, 1, 3, 1, 1, 2, 2, 1, 2, 3, 4, 1, 2, 1, 2, 3, 4, 4, 1, 2, 2, 3, 4, 2, 3, 2, 2, 1, 3, 1, 3, 1, 3, 1, 1, 3, 2, 4, 1, 2, 3, 2, 4, 4, 2, 2, 2, 2, 4, 1, 4, 4, 4, 1, 4, 2, 3, 3, 2, 1, 4, 1, 1, 4]\n"
     ]
    }
   ],
   "source": [
    "print(y_Pre)"
   ]
  },
  {
   "cell_type": "code",
   "execution_count": 17,
   "metadata": {},
   "outputs": [
    {
     "name": "stdout",
     "output_type": "stream",
     "text": [
      "Individual estimators accuracy: [0.66, 0.59, 0.58, 0.53, 0.58, 0.68, 0.68, 0.64, 0.66, 0.6]\n",
      "mean accuracy:0.62 (+/- 0.048)\n",
      "Bagging accuracy: 0.75\n"
     ]
    }
   ],
   "source": [
    "estimators_acc=[accuracy_score(y_test,y) for y in Y]\n",
    "print('Individual estimators accuracy:',estimators_acc)\n",
    "print(f'mean accuracy:{np.round(np.mean(estimators_acc),3)} (+/- {np.round(np.std(estimators_acc),3)})')\n",
    "print('Bagging accuracy:',accuracy_score(y_test,y_Pre))"
   ]
  },
  {
   "cell_type": "markdown",
   "metadata": {},
   "source": [
    "## 2b"
   ]
  },
  {
   "cell_type": "markdown",
   "metadata": {},
   "source": [
    "##### estimators"
   ]
  },
  {
   "cell_type": "code",
   "execution_count": 18,
   "metadata": {},
   "outputs": [],
   "source": [
    "#We defined our classifier as DecisionTree,SVC and GaussianNB\n",
    "# append all classifiers in estimator list\n",
    "estimators=[]\n",
    "estimator1=DecisionTreeClassifier(criterion='gini', splitter='best')\n",
    "estimators.append(('DT',estimator1))\n",
    "estimator2=SVC(C=1.0, kernel='rbf', gamma='scale')\n",
    "estimators.append(('SVM',estimator2))\n",
    "estimator3=GaussianNB()\n",
    "estimators.append(('GNB',estimator3))"
   ]
  },
  {
   "cell_type": "markdown",
   "metadata": {},
   "source": [
    "##### sklearn VotingClassifier"
   ]
  },
  {
   "cell_type": "code",
   "execution_count": 11,
   "metadata": {},
   "outputs": [
    {
     "name": "stdout",
     "output_type": "stream",
     "text": [
      "              precision    recall  f1-score   support\n",
      "\n",
      "           1       0.47      0.58      0.52        24\n",
      "           2       0.48      0.46      0.47        26\n",
      "           3       0.64      0.56      0.60        25\n",
      "           4       0.70      0.64      0.67        25\n",
      "\n",
      "    accuracy                           0.56       100\n",
      "   macro avg       0.57      0.56      0.56       100\n",
      "weighted avg       0.57      0.56      0.56       100\n",
      "\n",
      "[[14  8  1  1]\n",
      " [12 12  2  0]\n",
      " [ 3  2 14  6]\n",
      " [ 1  3  5 16]]\n"
     ]
    }
   ],
   "source": [
    "#We used Voting classifier from sklearn library\n",
    "#We stored our all y predicts for each classifies on X-test\n",
    "sklearn_clf = VotingClassifier(estimators=estimators).fit(X, y)\n",
    "y_P=sklearn_clf.predict(X_test)\n",
    "\n",
    "# Visually report the performance of the sklearn classifiers and VotingClassifier\n",
    "print(classification_report(y_test,y_P))\n",
    "print(confusion_matrix(y_test,y_P))"
   ]
  },
  {
   "cell_type": "markdown",
   "metadata": {},
   "source": [
    "#### Our Implimentation of VotingClassifier"
   ]
  },
  {
   "cell_type": "code",
   "execution_count": 19,
   "metadata": {},
   "outputs": [],
   "source": [
    "#\n",
    "\n",
    "class Voting_Clf:\n",
    "    def __init__(self, estimators): \n",
    "        self.estimators=estimators\n",
    "        self.n_estimators =len(estimators)\n",
    "#we add this add_estimator method in case if \n",
    "# latar want to add more estimator\n",
    "\n",
    "    def add_estimator(self, new_estimator):\n",
    "        self.estimators.append(new_estimator)\n",
    "        self.n_estimators +=1\n",
    "        \n",
    "    def fit(self,X,y):\n",
    "        for i in range(self.n_estimators):\n",
    "            self.estimators[i][1].fit(X,y)\n",
    "        return self\n",
    "        \n",
    "    def predict(self,X):\n",
    "        Y=[]\n",
    "        for i in range(self.n_estimators):\n",
    "            Y.append(self.estimators[i][1].predict(X).tolist())\n",
    "        y_pre=[]\n",
    "        Y_pre=[]\n",
    "        for i in range(len(X)):\n",
    "            y_i=[y[i] for y in Y]\n",
    "            Y_pre.append(y_i)\n",
    "            y_pre.append(np.random.choice(multimode(y_i)))\n",
    "        return y_pre,Y_pre,Y"
   ]
  },
  {
   "cell_type": "code",
   "execution_count": 13,
   "metadata": {},
   "outputs": [
    {
     "name": "stdout",
     "output_type": "stream",
     "text": [
      "              precision    recall  f1-score   support\n",
      "\n",
      "           1       0.52      0.54      0.53        24\n",
      "           2       0.58      0.54      0.56        26\n",
      "           3       0.62      0.64      0.63        25\n",
      "           4       0.72      0.72      0.72        25\n",
      "\n",
      "    accuracy                           0.61       100\n",
      "   macro avg       0.61      0.61      0.61       100\n",
      "weighted avg       0.61      0.61      0.61       100\n",
      "\n",
      "[[13  8  2  1]\n",
      " [ 9 14  3  0]\n",
      " [ 2  1 16  6]\n",
      " [ 1  1  5 18]]\n"
     ]
    }
   ],
   "source": [
    "my_clf=Voting_Clf(estimators=estimators).fit(X, y)\n",
    "y_Pre,Y_Pre,Y=my_clf.predict(X_test)\n",
    "print(classification_report(y_test,y_Pre))\n",
    "print(confusion_matrix(y_test,y_Pre))"
   ]
  },
  {
   "cell_type": "code",
   "execution_count": 14,
   "metadata": {},
   "outputs": [
    {
     "name": "stdout",
     "output_type": "stream",
     "text": [
      "estimators method: ['DT', 'SVM', 'GNB']\n",
      "individual estimators accuracy: [0.73, 0.41, 0.48]\n",
      "mean accuracy:0.54 (+/- 0.137)\n",
      "Voting accuracy: 0.61\n"
     ]
    }
   ],
   "source": [
    "estimators_acc=[accuracy_score(y_test,y) for y in Y]\n",
    "print('estimators method:',[estimator[0] for estimator in estimators])\n",
    "print('Individual estimators accuracy:',estimators_acc)\n",
    "print(f'mean accuracy:{np.round(np.mean(estimators_acc),3)} (+/- {np.round(np.std(estimators_acc),3)})')\n",
    "print('Voting accuracy:',accuracy_score(y_test,y_Pre))"
   ]
  }
 ],
 "metadata": {
  "kernelspec": {
   "display_name": "Python 3",
   "language": "python",
   "name": "python3"
  },
  "language_info": {
   "codemirror_mode": {
    "name": "ipython",
    "version": 3
   },
   "file_extension": ".py",
   "mimetype": "text/x-python",
   "name": "python",
   "nbconvert_exporter": "python",
   "pygments_lexer": "ipython3",
   "version": "3.8.5"
  }
 },
 "nbformat": 4,
 "nbformat_minor": 4
}
